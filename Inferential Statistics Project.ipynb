{
 "cells": [
  {
   "cell_type": "markdown",
   "id": "93f4d8cd",
   "metadata": {},
   "source": [
    "# Name: Vineet Poojary \n",
    "# Roll no. 23\n",
    "# ISUP Case Study"
   ]
  },
  {
   "cell_type": "code",
   "execution_count": 1,
   "id": "e3a2aade",
   "metadata": {},
   "outputs": [],
   "source": [
    "import pandas as pd\n",
    "import numpy as np\n",
    "import statsmodels.api as sm"
   ]
  },
  {
   "cell_type": "markdown",
   "id": "4fb506ea",
   "metadata": {},
   "source": [
    "# Dataset 1 - Country"
   ]
  },
  {
   "cell_type": "code",
   "execution_count": 2,
   "id": "8da6a741",
   "metadata": {},
   "outputs": [
    {
     "data": {
      "text/html": [
       "<div>\n",
       "<style scoped>\n",
       "    .dataframe tbody tr th:only-of-type {\n",
       "        vertical-align: middle;\n",
       "    }\n",
       "\n",
       "    .dataframe tbody tr th {\n",
       "        vertical-align: top;\n",
       "    }\n",
       "\n",
       "    .dataframe thead th {\n",
       "        text-align: right;\n",
       "    }\n",
       "</style>\n",
       "<table border=\"1\" class=\"dataframe\">\n",
       "  <thead>\n",
       "    <tr style=\"text-align: right;\">\n",
       "      <th></th>\n",
       "      <th>Country</th>\n",
       "      <th>Corruption_Index</th>\n",
       "      <th>Gini_Index</th>\n",
       "    </tr>\n",
       "  </thead>\n",
       "  <tbody>\n",
       "    <tr>\n",
       "      <th>0</th>\n",
       "      <td>Hong Kong</td>\n",
       "      <td>77</td>\n",
       "      <td>53.7</td>\n",
       "    </tr>\n",
       "    <tr>\n",
       "      <th>1</th>\n",
       "      <td>South Korea</td>\n",
       "      <td>53</td>\n",
       "      <td>30.2</td>\n",
       "    </tr>\n",
       "    <tr>\n",
       "      <th>2</th>\n",
       "      <td>China</td>\n",
       "      <td>40</td>\n",
       "      <td>46.2</td>\n",
       "    </tr>\n",
       "    <tr>\n",
       "      <th>3</th>\n",
       "      <td>Italy</td>\n",
       "      <td>47</td>\n",
       "      <td>32.7</td>\n",
       "    </tr>\n",
       "    <tr>\n",
       "      <th>4</th>\n",
       "      <td>Mongolia</td>\n",
       "      <td>38</td>\n",
       "      <td>36.5</td>\n",
       "    </tr>\n",
       "    <tr>\n",
       "      <th>5</th>\n",
       "      <td>Austria</td>\n",
       "      <td>75</td>\n",
       "      <td>27.6</td>\n",
       "    </tr>\n",
       "    <tr>\n",
       "      <th>6</th>\n",
       "      <td>Norway</td>\n",
       "      <td>85</td>\n",
       "      <td>23.5</td>\n",
       "    </tr>\n",
       "    <tr>\n",
       "      <th>7</th>\n",
       "      <td>UK</td>\n",
       "      <td>81</td>\n",
       "      <td>31.6</td>\n",
       "    </tr>\n",
       "    <tr>\n",
       "      <th>8</th>\n",
       "      <td>Canada</td>\n",
       "      <td>82</td>\n",
       "      <td>33.7</td>\n",
       "    </tr>\n",
       "    <tr>\n",
       "      <th>9</th>\n",
       "      <td>Germany</td>\n",
       "      <td>81</td>\n",
       "      <td>30.7</td>\n",
       "    </tr>\n",
       "    <tr>\n",
       "      <th>10</th>\n",
       "      <td>Sweden</td>\n",
       "      <td>88</td>\n",
       "      <td>25.4</td>\n",
       "    </tr>\n",
       "    <tr>\n",
       "      <th>11</th>\n",
       "      <td>Denmark</td>\n",
       "      <td>90</td>\n",
       "      <td>27.5</td>\n",
       "    </tr>\n",
       "    <tr>\n",
       "      <th>12</th>\n",
       "      <td>France</td>\n",
       "      <td>69</td>\n",
       "      <td>30.1</td>\n",
       "    </tr>\n",
       "    <tr>\n",
       "      <th>13</th>\n",
       "      <td>United States</td>\n",
       "      <td>74</td>\n",
       "      <td>40.8</td>\n",
       "    </tr>\n",
       "    <tr>\n",
       "      <th>14</th>\n",
       "      <td>Russia</td>\n",
       "      <td>29</td>\n",
       "      <td>40.1</td>\n",
       "    </tr>\n",
       "    <tr>\n",
       "      <th>15</th>\n",
       "      <td>Portugal</td>\n",
       "      <td>62</td>\n",
       "      <td>34.2</td>\n",
       "    </tr>\n",
       "    <tr>\n",
       "      <th>16</th>\n",
       "      <td>Romania</td>\n",
       "      <td>48</td>\n",
       "      <td>34.0</td>\n",
       "    </tr>\n",
       "    <tr>\n",
       "      <th>17</th>\n",
       "      <td>Argentina</td>\n",
       "      <td>36</td>\n",
       "      <td>42.7</td>\n",
       "    </tr>\n",
       "    <tr>\n",
       "      <th>18</th>\n",
       "      <td>Greece</td>\n",
       "      <td>44</td>\n",
       "      <td>34.2</td>\n",
       "    </tr>\n",
       "    <tr>\n",
       "      <th>19</th>\n",
       "      <td>Thailand</td>\n",
       "      <td>35</td>\n",
       "      <td>39.4</td>\n",
       "    </tr>\n",
       "  </tbody>\n",
       "</table>\n",
       "</div>"
      ],
      "text/plain": [
       "          Country  Corruption_Index  Gini_Index\n",
       "0       Hong Kong                77        53.7\n",
       "1     South Korea                53        30.2\n",
       "2           China                40        46.2\n",
       "3           Italy                47        32.7\n",
       "4        Mongolia                38        36.5\n",
       "5         Austria                75        27.6\n",
       "6          Norway                85        23.5\n",
       "7              UK                81        31.6\n",
       "8          Canada                82        33.7\n",
       "9         Germany                81        30.7\n",
       "10         Sweden                88        25.4\n",
       "11        Denmark                90        27.5\n",
       "12         France                69        30.1\n",
       "13  United States                74        40.8\n",
       "14        Russia                 29        40.1\n",
       "15       Portugal                62        34.2\n",
       "16        Romania                48        34.0\n",
       "17      Argentina                36        42.7\n",
       "18         Greece                44        34.2\n",
       "19      Thailand                 35        39.4"
      ]
     },
     "execution_count": 2,
     "metadata": {},
     "output_type": "execute_result"
    }
   ],
   "source": [
    "df = pd.read_csv(r'C:\\css\\country.csv')\n",
    "df"
   ]
  },
  {
   "cell_type": "code",
   "execution_count": 3,
   "id": "11c61eea",
   "metadata": {},
   "outputs": [],
   "source": [
    "X = df['Gini_Index']\n",
    "Y = df['Corruption_Index']"
   ]
  },
  {
   "cell_type": "markdown",
   "id": "e56aefe3",
   "metadata": {},
   "source": [
    "# Question 1: Develop a simple linear regression model between corruption perception index (Y) and Gini Index (X). What is the change in the corruption perception index for every one unit increase in Gini Index ?"
   ]
  },
  {
   "cell_type": "code",
   "execution_count": 4,
   "id": "c56bc2a2",
   "metadata": {},
   "outputs": [],
   "source": [
    "X = sm.add_constant(X) # Adding constant to fit the model ahead."
   ]
  },
  {
   "cell_type": "code",
   "execution_count": 5,
   "id": "7cad8b47",
   "metadata": {},
   "outputs": [
    {
     "name": "stdout",
     "output_type": "stream",
     "text": [
      "const         106.695011\n",
      "Gini_Index     -1.295193\n",
      "dtype: float64\n"
     ]
    }
   ],
   "source": [
    "model = sm.OLS(Y, X).fit()\n",
    "print(model.params)   \n",
    "\n",
    "# Fitting the model here.\n",
    "# by printing this we get a0 = 106.695011 and a1 = -1.295193"
   ]
  },
  {
   "cell_type": "code",
   "execution_count": 6,
   "id": "ca7aa63f",
   "metadata": {},
   "outputs": [
    {
     "name": "stdout",
     "output_type": "stream",
     "text": [
      "Change in the corruption perception index for every one unit increase in Gini_Index would be : -1.2951931651912754\n"
     ]
    }
   ],
   "source": [
    "# To specifically get change in the corruption perception index for every one unit increase in Gini Index we can do is ..\n",
    "\n",
    "change = model.params['Gini_Index']\n",
    "print(\"Change in the corruption perception index for every one unit increase in Gini_Index would be :\", change)"
   ]
  },
  {
   "cell_type": "markdown",
   "id": "e12178e6",
   "metadata": {},
   "source": [
    "# Question 2: What proportion of the variation in corruption perception index is explained by Gini Index ?"
   ]
  },
  {
   "cell_type": "code",
   "execution_count": 7,
   "id": "8a774e83",
   "metadata": {},
   "outputs": [
    {
     "name": "stdout",
     "output_type": "stream",
     "text": [
      "Proportion of the variation in corruption perception index explained by Gini_Index would be : 0.21521228052302832\n"
     ]
    }
   ],
   "source": [
    "rsq = model.rsquared\n",
    "print(\"Proportion of the variation in corruption perception index explained by Gini_Index would be :\", rsq)\n",
    "\n",
    "# Here rsquared is taken since by definition R-Squared is a statistical measure that determines the proportion\n",
    "# of variance in the dependent variable here (corruption_index) that can be explained by the independent variable\n",
    "# here (Gini_Index)"
   ]
  },
  {
   "cell_type": "markdown",
   "id": "d4a833fe",
   "metadata": {},
   "source": [
    "# Question 3: Is there a statistically significant relationship between corruption perception index and Gini index at the alpha 0.1 % ?\n"
   ]
  },
  {
   "cell_type": "code",
   "execution_count": 8,
   "id": "757a279d",
   "metadata": {},
   "outputs": [],
   "source": [
    "alpha = 0.001  # at alpha 0.1"
   ]
  },
  {
   "cell_type": "code",
   "execution_count": 9,
   "id": "46de23af",
   "metadata": {},
   "outputs": [
    {
     "data": {
      "text/plain": [
       "0.03936250788718881"
      ]
     },
     "execution_count": 9,
     "metadata": {},
     "output_type": "execute_result"
    }
   ],
   "source": [
    "p_value = model.pvalues['Gini_Index']\n",
    "p_value"
   ]
  },
  {
   "cell_type": "code",
   "execution_count": 10,
   "id": "7da9c31e",
   "metadata": {},
   "outputs": [
    {
     "name": "stdout",
     "output_type": "stream",
     "text": [
      "There is no statistically significant relationship between corruption perception index and Gini_index at alpha 0.1%\n"
     ]
    }
   ],
   "source": [
    "if p_value < alpha:\n",
    "    print(\"There is a statistically significant relationship between corruption perception index and Gini_index at alpha 0.1%\")\n",
    "else:\n",
    "    print(\"There is no statistically significant relationship between corruption perception index and Gini_index at alpha 0.1%\")\n"
   ]
  },
  {
   "cell_type": "markdown",
   "id": "90e279a5",
   "metadata": {},
   "source": [
    "# Question 4: Calculate the 95% confidence interval for the regression coefficient a1."
   ]
  },
  {
   "cell_type": "code",
   "execution_count": 11,
   "id": "873e7300",
   "metadata": {},
   "outputs": [
    {
     "name": "stdout",
     "output_type": "stream",
     "text": [
      "95% Confidence Interval for the regression coefficient a1 would be : 0   -2.519953\n",
      "1   -0.070434\n",
      "Name: Gini_Index, dtype: float64\n"
     ]
    }
   ],
   "source": [
    "conf = model.conf_int(alpha=0.05).loc['Gini_Index']\n",
    "print(\"95% Confidence Interval for the regression coefficient a1 would be :\", conf)"
   ]
  },
  {
   "cell_type": "markdown",
   "id": "7f127be5",
   "metadata": {},
   "source": [
    "# Dataset 2 - Houseprices"
   ]
  },
  {
   "cell_type": "code",
   "execution_count": 12,
   "id": "657cb741",
   "metadata": {},
   "outputs": [],
   "source": [
    "import pandas as pd\n",
    "import statsmodels.api as sm"
   ]
  },
  {
   "cell_type": "code",
   "execution_count": 13,
   "id": "77392ef9",
   "metadata": {},
   "outputs": [
    {
     "data": {
      "text/html": [
       "<div>\n",
       "<style scoped>\n",
       "    .dataframe tbody tr th:only-of-type {\n",
       "        vertical-align: middle;\n",
       "    }\n",
       "\n",
       "    .dataframe tbody tr th {\n",
       "        vertical-align: top;\n",
       "    }\n",
       "\n",
       "    .dataframe thead th {\n",
       "        text-align: right;\n",
       "    }\n",
       "</style>\n",
       "<table border=\"1\" class=\"dataframe\">\n",
       "  <thead>\n",
       "    <tr style=\"text-align: right;\">\n",
       "      <th></th>\n",
       "      <th>area</th>\n",
       "      <th>bedrooms</th>\n",
       "      <th>age</th>\n",
       "      <th>price</th>\n",
       "    </tr>\n",
       "  </thead>\n",
       "  <tbody>\n",
       "    <tr>\n",
       "      <th>0</th>\n",
       "      <td>2600</td>\n",
       "      <td>3.0</td>\n",
       "      <td>20</td>\n",
       "      <td>550000</td>\n",
       "    </tr>\n",
       "    <tr>\n",
       "      <th>1</th>\n",
       "      <td>3000</td>\n",
       "      <td>4.0</td>\n",
       "      <td>15</td>\n",
       "      <td>565000</td>\n",
       "    </tr>\n",
       "    <tr>\n",
       "      <th>2</th>\n",
       "      <td>3200</td>\n",
       "      <td>NaN</td>\n",
       "      <td>18</td>\n",
       "      <td>610000</td>\n",
       "    </tr>\n",
       "    <tr>\n",
       "      <th>3</th>\n",
       "      <td>3600</td>\n",
       "      <td>3.0</td>\n",
       "      <td>30</td>\n",
       "      <td>595000</td>\n",
       "    </tr>\n",
       "    <tr>\n",
       "      <th>4</th>\n",
       "      <td>4000</td>\n",
       "      <td>5.0</td>\n",
       "      <td>8</td>\n",
       "      <td>760000</td>\n",
       "    </tr>\n",
       "    <tr>\n",
       "      <th>5</th>\n",
       "      <td>4400</td>\n",
       "      <td>5.0</td>\n",
       "      <td>8</td>\n",
       "      <td>795000</td>\n",
       "    </tr>\n",
       "  </tbody>\n",
       "</table>\n",
       "</div>"
      ],
      "text/plain": [
       "   area  bedrooms  age   price\n",
       "0  2600       3.0   20  550000\n",
       "1  3000       4.0   15  565000\n",
       "2  3200       NaN   18  610000\n",
       "3  3600       3.0   30  595000\n",
       "4  4000       5.0    8  760000\n",
       "5  4400       5.0    8  795000"
      ]
     },
     "execution_count": 13,
     "metadata": {},
     "output_type": "execute_result"
    }
   ],
   "source": [
    "df2 = pd.read_csv(r'C:\\css\\homeprices.csv')\n",
    "df2"
   ]
  },
  {
   "cell_type": "markdown",
   "id": "3feda0ca",
   "metadata": {},
   "source": [
    "# Creating Multiple Linear Regression Model for the house prices data set"
   ]
  },
  {
   "cell_type": "code",
   "execution_count": 14,
   "id": "4285591d",
   "metadata": {},
   "outputs": [
    {
     "data": {
      "text/html": [
       "<div>\n",
       "<style scoped>\n",
       "    .dataframe tbody tr th:only-of-type {\n",
       "        vertical-align: middle;\n",
       "    }\n",
       "\n",
       "    .dataframe tbody tr th {\n",
       "        vertical-align: top;\n",
       "    }\n",
       "\n",
       "    .dataframe thead th {\n",
       "        text-align: right;\n",
       "    }\n",
       "</style>\n",
       "<table border=\"1\" class=\"dataframe\">\n",
       "  <thead>\n",
       "    <tr style=\"text-align: right;\">\n",
       "      <th></th>\n",
       "      <th>area</th>\n",
       "      <th>bedrooms</th>\n",
       "      <th>age</th>\n",
       "      <th>price</th>\n",
       "    </tr>\n",
       "  </thead>\n",
       "  <tbody>\n",
       "    <tr>\n",
       "      <th>0</th>\n",
       "      <td>2600</td>\n",
       "      <td>3.0</td>\n",
       "      <td>20</td>\n",
       "      <td>550000</td>\n",
       "    </tr>\n",
       "    <tr>\n",
       "      <th>1</th>\n",
       "      <td>3000</td>\n",
       "      <td>4.0</td>\n",
       "      <td>15</td>\n",
       "      <td>565000</td>\n",
       "    </tr>\n",
       "    <tr>\n",
       "      <th>2</th>\n",
       "      <td>3200</td>\n",
       "      <td>4.0</td>\n",
       "      <td>18</td>\n",
       "      <td>610000</td>\n",
       "    </tr>\n",
       "    <tr>\n",
       "      <th>3</th>\n",
       "      <td>3600</td>\n",
       "      <td>3.0</td>\n",
       "      <td>30</td>\n",
       "      <td>595000</td>\n",
       "    </tr>\n",
       "    <tr>\n",
       "      <th>4</th>\n",
       "      <td>4000</td>\n",
       "      <td>5.0</td>\n",
       "      <td>8</td>\n",
       "      <td>760000</td>\n",
       "    </tr>\n",
       "    <tr>\n",
       "      <th>5</th>\n",
       "      <td>4400</td>\n",
       "      <td>5.0</td>\n",
       "      <td>8</td>\n",
       "      <td>795000</td>\n",
       "    </tr>\n",
       "  </tbody>\n",
       "</table>\n",
       "</div>"
      ],
      "text/plain": [
       "   area  bedrooms  age   price\n",
       "0  2600       3.0   20  550000\n",
       "1  3000       4.0   15  565000\n",
       "2  3200       4.0   18  610000\n",
       "3  3600       3.0   30  595000\n",
       "4  4000       5.0    8  760000\n",
       "5  4400       5.0    8  795000"
      ]
     },
     "execution_count": 14,
     "metadata": {},
     "output_type": "execute_result"
    }
   ],
   "source": [
    "# Now fitting won't happen until the nan value in the bedrooms column is resolved which can be done by replacing the nan\n",
    "# value by the mean value of that column.\n",
    "\n",
    "mean = df2['bedrooms'].mean()\n",
    "df2['bedrooms'].fillna(mean, inplace=True)\n",
    "df2"
   ]
  },
  {
   "cell_type": "code",
   "execution_count": 15,
   "id": "4494f65c",
   "metadata": {},
   "outputs": [],
   "source": [
    "X = df2[['area', 'bedrooms']]\n",
    "y = df2['price']"
   ]
  },
  {
   "cell_type": "code",
   "execution_count": 16,
   "id": "58f84551",
   "metadata": {},
   "outputs": [],
   "source": [
    "X = sm.add_constant(X)"
   ]
  },
  {
   "cell_type": "code",
   "execution_count": 17,
   "id": "22514a91",
   "metadata": {},
   "outputs": [
    {
     "name": "stdout",
     "output_type": "stream",
     "text": [
      "const       111901.993355\n",
      "area            97.840532\n",
      "bedrooms     48687.707641\n",
      "dtype: float64\n"
     ]
    }
   ],
   "source": [
    "model = sm.OLS(y, X).fit()\n",
    "print(model.params)"
   ]
  },
  {
   "cell_type": "code",
   "execution_count": 18,
   "id": "c8d62479",
   "metadata": {},
   "outputs": [
    {
     "name": "stdout",
     "output_type": "stream",
     "text": [
      "                            OLS Regression Results                            \n",
      "==============================================================================\n",
      "Dep. Variable:                  price   R-squared:                       0.941\n",
      "Model:                            OLS   Adj. R-squared:                  0.902\n",
      "Method:                 Least Squares   F-statistic:                     23.89\n",
      "Date:                Mon, 25 Mar 2024   Prob (F-statistic):             0.0144\n",
      "Time:                        01:18:33   Log-Likelihood:                -68.836\n",
      "No. Observations:                   6   AIC:                             143.7\n",
      "Df Residuals:                       3   BIC:                             143.0\n",
      "Df Model:                           2                                         \n",
      "Covariance Type:            nonrobust                                         \n",
      "==============================================================================\n",
      "                 coef    std err          t      P>|t|      [0.025      0.975]\n",
      "------------------------------------------------------------------------------\n",
      "const       1.119e+05   7.89e+04      1.418      0.251   -1.39e+05    3.63e+05\n",
      "area          97.8405     32.815      2.982      0.059      -6.590     202.271\n",
      "bedrooms    4.869e+04   2.44e+04      1.995      0.140    -2.9e+04    1.26e+05\n",
      "==============================================================================\n",
      "Omnibus:                          nan   Durbin-Watson:                   2.101\n",
      "Prob(Omnibus):                    nan   Jarque-Bera (JB):                0.225\n",
      "Skew:                           0.113   Prob(JB):                        0.894\n",
      "Kurtosis:                       2.079   Cond. No.                     2.07e+04\n",
      "==============================================================================\n",
      "\n",
      "Notes:\n",
      "[1] Standard Errors assume that the covariance matrix of the errors is correctly specified.\n",
      "[2] The condition number is large, 2.07e+04. This might indicate that there are\n",
      "strong multicollinearity or other numerical problems.\n"
     ]
    },
    {
     "name": "stderr",
     "output_type": "stream",
     "text": [
      "C:\\Anaconda\\Lib\\site-packages\\statsmodels\\stats\\stattools.py:74: ValueWarning: omni_normtest is not valid with less than 8 observations; 6 samples were given.\n",
      "  warn(\"omni_normtest is not valid with less than 8 observations; %i \"\n"
     ]
    }
   ],
   "source": [
    "print(model.summary())"
   ]
  },
  {
   "cell_type": "markdown",
   "id": "033b807c",
   "metadata": {},
   "source": [
    "# 1. Predict the house price with 780 sqft area, 3 bed rooms.\n"
   ]
  },
  {
   "cell_type": "code",
   "execution_count": 19,
   "id": "4a8dc5f7",
   "metadata": {},
   "outputs": [],
   "source": [
    "data = [[780, 3], [1500, 3], [2000, 4]]"
   ]
  },
  {
   "cell_type": "code",
   "execution_count": 20,
   "id": "239769ac",
   "metadata": {},
   "outputs": [],
   "source": [
    "data = sm.add_constant(data)"
   ]
  },
  {
   "cell_type": "code",
   "execution_count": 21,
   "id": "e2e5bf33",
   "metadata": {},
   "outputs": [],
   "source": [
    "pred = model.predict(data)"
   ]
  },
  {
   "cell_type": "code",
   "execution_count": 22,
   "id": "36896ceb",
   "metadata": {},
   "outputs": [
    {
     "name": "stdout",
     "output_type": "stream",
     "text": [
      "1. House with 780 sqft, 3 bedrooms would be around: $334280.73\n"
     ]
    }
   ],
   "source": [
    "print(f\"1. House with 780 sqft, 3 bedrooms would be around: ${pred[0]:.2f}\")"
   ]
  },
  {
   "cell_type": "markdown",
   "id": "8f04e8a2",
   "metadata": {},
   "source": [
    "# 2. Predict the house prices for two houses with 1500 sqft, 3 bed rooms and another with 2000 sqft, 4 bed rooms.\n",
    "\n"
   ]
  },
  {
   "cell_type": "code",
   "execution_count": 23,
   "id": "da6c5dc1",
   "metadata": {},
   "outputs": [
    {
     "name": "stdout",
     "output_type": "stream",
     "text": [
      "2. House with 1500 sqft, 3 bedrooms would be around: $404725.91\n",
      "3. House with 2000 sqft, 4 bedrooms would be around: $502333.89\n"
     ]
    }
   ],
   "source": [
    "print(f\"2. House with 1500 sqft, 3 bedrooms would be around: ${pred[1]:.2f}\")\n",
    "print(f\"3. House with 2000 sqft, 4 bedrooms would be around: ${pred[2]:.2f}\")"
   ]
  },
  {
   "cell_type": "markdown",
   "id": "3f606917",
   "metadata": {},
   "source": [
    "# Assignment End"
   ]
  }
 ],
 "metadata": {
  "kernelspec": {
   "display_name": "Python 3 (ipykernel)",
   "language": "python",
   "name": "python3"
  },
  "language_info": {
   "codemirror_mode": {
    "name": "ipython",
    "version": 3
   },
   "file_extension": ".py",
   "mimetype": "text/x-python",
   "name": "python",
   "nbconvert_exporter": "python",
   "pygments_lexer": "ipython3",
   "version": "3.11.4"
  }
 },
 "nbformat": 4,
 "nbformat_minor": 5
}
